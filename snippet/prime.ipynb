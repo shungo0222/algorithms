{
 "metadata": {
  "language_info": {
   "codemirror_mode": {
    "name": "ipython",
    "version": 3
   },
   "file_extension": ".py",
   "mimetype": "text/x-python",
   "name": "python",
   "nbconvert_exporter": "python",
   "pygments_lexer": "ipython3",
   "version": 3
  },
  "orig_nbformat": 4
 },
 "nbformat": 4,
 "nbformat_minor": 2,
 "cells": [
  {
   "source": [
    "# 素数発見法\n",
    "---"
   ],
   "cell_type": "markdown",
   "metadata": {}
  },
  {
   "source": [
    "* **[エラトステネスの篩(Sieve of Eratosthenes)](https://ja.wikipedia.org/wiki/%E3%82%A8%E3%83%A9%E3%83%88%E3%82%B9%E3%83%86%E3%83%8D%E3%82%B9%E3%81%AE%E7%AF%A9)**  \n",
    "ある整数以下のすべての素数を発見するアルゴリズム\n",
    "\n",
    "\n",
    "n以下のすべての素数を見つけるとする  \n",
    "1.探索リストに2からnまでの整数を並べる  \n",
    "2.先頭の数を素数リストに移動させ、その倍数を探索リストからふるい落とす  \n",
    "3.1と2の操作を先頭の値が**nの平方根**になるまで行う  \n",
    "4.探索リストに残った数を素数リストに移して終了 \n",
    "\n",
    "\n",
    "**<nの平方根まで操作を行う理由>**  \n",
    "例えば100まで調べるとき  \n",
    "1.2を素数とする場合 -> **2以外で100以下のすべての「2の倍数」を除去**  \n",
    "2.3を素数とする場合 -> **3と「2の倍数」以外で100以下のすべての「3の倍数」を除去**  \n",
    "3.5を素数とする場合 -> **5と「2の倍数」と「3の倍数」以外で100以下のすべての「5の倍数」を除去**  \n",
    "・  \n",
    "・  \n",
    "・  \n",
    "n.11を素数とする場合 -> **11と「2の倍数」と「3の倍数」と「5の倍数」と「7の倍数」以外で100以下のすべての「11の倍数」を除去**  \n",
    "**==> 除去対象は11×11、しかしそれは100を超えているのでしらべる必要はない**  \n",
    "**==> 除去作業が不必要になるタイミングは、先頭の値がnの平方根となったとき**  \n",
    "(参考)  \n",
    "[エラトステネスの篩で調べる 素数判定の上限と平方根の関係性](https://szarny.hatenablog.com/entry/2017/09/28/003352)"
   ],
   "cell_type": "markdown",
   "metadata": {}
  },
  {
   "source": [
    "def get_sieve_of_eratosthenes(n):\n",
    "    if not isinstance(n, int):\n",
    "        raise TypeError('n is int type.')\n",
    "    if n < 2:\n",
    "        raise ValueError('n is more than 2')\n",
    "    prime = [2]\n",
    "    limit = int(n**0.5)\n",
    "    data = [i + 1 for i in range(2, n, 2)]\n",
    "    while True:\n",
    "        p = data[0]\n",
    "        if limit <= p:\n",
    "            return prime + data\n",
    "        prime.append(p)\n",
    "        data = [e for e in data if e % p != 0]"
   ],
   "cell_type": "code",
   "metadata": {},
   "execution_count": null,
   "outputs": []
  }
 ]
}