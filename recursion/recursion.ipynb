{
 "cells": [
  {
   "cell_type": "markdown",
   "metadata": {},
   "source": [
    "# 再帰関数\r\n",
    "---\r\n",
    "\r\n",
    "基本のルール\r\n",
    " * 再帰終了条件を持たなければならない\r\n",
    " * 状態を変えながら再帰終了条件に進んでいかなければならない\r\n",
    " * 再帰的に関数自身を呼び出さなければならない\r\n",
    "\r\n",
    "```python\r\n",
    "# 1からnまでの和を求める再帰関数\r\n",
    "def sum(n):\r\n",
    "    if n == 0:\r\n",
    "        return n\r\n",
    "    return n + sum(n-1)\r\n",
    "```\r\n",
    "\r\n",
    "Pythonは再帰限界が1000回と決められているので、必要ならばこの限界を上げておく  \r\n",
    "(再帰はやや遅いので競プロでは使わないほうが良い)\r\n",
    "```python\r\n",
    "import sys\r\n",
    "sys.setrecursionlimit(10**8)\r\n",
    "```"
   ]
  }
 ],
 "metadata": {
  "interpreter": {
   "hash": "c72cfad71a3e9e473c0653e3dc35d4523b2040eabbc4fb30f176e5de615f7356"
  },
  "kernelspec": {
   "display_name": "Python 3.7.4 64-bit ('base': conda)",
   "name": "python3"
  },
  "language_info": {
   "name": "python",
   "version": ""
  },
  "orig_nbformat": 4
 },
 "nbformat": 4,
 "nbformat_minor": 2
}