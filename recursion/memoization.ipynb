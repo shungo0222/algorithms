{
 "cells": [
  {
   "cell_type": "markdown",
   "metadata": {
    "id": "kANQ978fqJoY"
   },
   "source": [
    "# フィボナッチ数列\n",
    "---"
   ]
  },
  {
   "cell_type": "markdown",
   "metadata": {
    "id": "9ZH6jNLsrFAT"
   },
   "source": [
    "次のように自身より前の2項を足したものが項となる数列です。  \n",
    "$0, 1, 1, 2, 3, 5, 8, 13, \\cdot\\cdot\\cdot$\n",
    "\n",
    "漸化式で表すと次のようになります。  \n",
    "$F(n) = F(n-1) + F(n-2)$\n",
    "\n",
    "再帰関数を用いると以下のように表すことが出来ます。"
   ]
  },
  {
   "cell_type": "code",
   "execution_count": 1,
   "metadata": {
    "executionInfo": {
     "elapsed": 14,
     "status": "ok",
     "timestamp": 1624935586879,
     "user": {
      "displayName": "shungo kimura",
      "photoUrl": "",
      "userId": "16139714564296208788"
     },
     "user_tz": -540
    },
    "id": "GoPwIGJFsRZy"
   },
   "outputs": [],
   "source": [
    "def fibonacci(n):\n",
    "    if n == 0 or n == 1:\n",
    "        return n\n",
    "    \n",
    "    return fibonacci(n-1) + fibonacci(n-2)"
   ]
  },
  {
   "cell_type": "markdown",
   "metadata": {
    "id": "OF5WtIgvtTzH"
   },
   "source": [
    "最初の項が0項目で、引数に求めたい項数を入れるとフィボナッチ数列でのその値が返ってきます。"
   ]
  },
  {
   "cell_type": "code",
   "execution_count": 2,
   "metadata": {
    "colab": {
     "base_uri": "https://localhost:8080/"
    },
    "executionInfo": {
     "elapsed": 17,
     "status": "ok",
     "timestamp": 1624935885416,
     "user": {
      "displayName": "shungo kimura",
      "photoUrl": "",
      "userId": "16139714564296208788"
     },
     "user_tz": -540
    },
    "id": "iWSfl7GXuH7F",
    "outputId": "0a61d309-1fa0-4300-9217-9ee9376018bb"
   },
   "outputs": [
    {
     "name": "stdout",
     "output_type": "stream",
     "text": [
      "2項目の値は1\n",
      "13項目の値は233\n"
     ]
    }
   ],
   "source": [
    "print(f'2項目の値は{fibonacci(2)}')\n",
    "print(f'13項目の値は{fibonacci(13)}')"
   ]
  },
  {
   "cell_type": "markdown",
   "metadata": {
    "id": "lZP5aOg8zQ2a"
   },
   "source": [
    "しかしこの関数では計算量が大きいというデメリットがあります。  \n",
    "例として6項目を求めるときを考えてみると、以下のようになります。"
   ]
  },
  {
   "cell_type": "markdown",
   "metadata": {
    "id": "OPNQSnmdzRz7"
   },
   "source": [
    "<img src=\"tree.png\">"
   ]
  },
  {
   "cell_type": "markdown",
   "metadata": {
    "id": "KRiIggro7ipk"
   },
   "source": [
    "このツリーグラフを見てみると、n=2は5回、n=3は3回、n=4は2回、重複して呼び出されています。なので、nの数が大きいと計算量が大きくなってしまいます。"
   ]
  },
  {
   "cell_type": "markdown",
   "metadata": {
    "id": "sgJcCr4w8MRI"
   },
   "source": [
    "# メモ化再帰\n",
    "---"
   ]
  },
  {
   "cell_type": "markdown",
   "metadata": {
    "id": "FrIEzt-Y8tW8"
   },
   "source": [
    "メモ化再帰では計算したものを配列に保存しておき、計算済みならば再利用をします。これにより、無駄な計算を減らし計算時間を削減することが出来ます。"
   ]
  },
  {
   "cell_type": "code",
   "execution_count": 3,
   "metadata": {
    "executionInfo": {
     "elapsed": 327,
     "status": "ok",
     "timestamp": 1624941662102,
     "user": {
      "displayName": "shungo kimura",
      "photoUrl": "",
      "userId": "16139714564296208788"
     },
     "user_tz": -540
    },
    "id": "hK7FGJSPA3_u"
   },
   "outputs": [],
   "source": [
    "class Fibonacci_Memo(object):\n",
    "    def __init__(self):\n",
    "        # メモ用の辞書\n",
    "        self.memo = {}\n",
    "    \n",
    "    def calc(self, n):\n",
    "        if n == 0 or n == 1:\n",
    "            self.memo[n] = n\n",
    "            return n\n",
    "        \n",
    "        # 計算済みならばメモしたものを再利用\n",
    "        if n in self.memo.keys():\n",
    "            return self.memo[n]\n",
    "        \n",
    "        # 計算済みでないならば再帰で計算をしてメモ\n",
    "        self.memo[n] = self.calc(n-1) + self.calc(n-2)\n",
    "        \n",
    "        return self.memo[n]"
   ]
  },
  {
   "cell_type": "markdown",
   "metadata": {
    "id": "qNDJeRy0HjZD"
   },
   "source": [
    "# 計算時間の比較\n",
    "---"
   ]
  },
  {
   "cell_type": "code",
   "execution_count": 4,
   "metadata": {
    "colab": {
     "base_uri": "https://localhost:8080/"
    },
    "executionInfo": {
     "elapsed": 216,
     "status": "ok",
     "timestamp": 1624942547094,
     "user": {
      "displayName": "shungo kimura",
      "photoUrl": "",
      "userId": "16139714564296208788"
     },
     "user_tz": -540
    },
    "id": "0lCnGI5muehJ",
    "outputId": "959fdee7-cc53-4355-d72d-b659a74c6be9"
   },
   "outputs": [
    {
     "name": "stdout",
     "output_type": "stream",
     "text": [
      "n = 0\n",
      "normal: 0.00000[s], memo: 0.00000[s]\n",
      "\n",
      "n = 1\n",
      "normal: 0.00000[s], memo: 0.00000[s]\n",
      "\n",
      "n = 2\n",
      "normal: 0.00000[s], memo: 0.00000[s]\n",
      "\n",
      "n = 3\n",
      "normal: 0.00000[s], memo: 0.00000[s]\n",
      "\n",
      "n = 4\n",
      "normal: 0.00000[s], memo: 0.00000[s]\n",
      "\n",
      "n = 5\n",
      "normal: 0.00000[s], memo: 0.00001[s]\n",
      "\n",
      "n = 6\n",
      "normal: 0.00001[s], memo: 0.00001[s]\n",
      "\n",
      "n = 7\n",
      "normal: 0.00001[s], memo: 0.00001[s]\n",
      "\n",
      "n = 8\n",
      "normal: 0.00001[s], memo: 0.00001[s]\n",
      "\n",
      "n = 9\n",
      "normal: 0.00002[s], memo: 0.00001[s]\n",
      "\n",
      "n = 10\n",
      "normal: 0.00003[s], memo: 0.00001[s]\n",
      "\n",
      "n = 11\n",
      "normal: 0.00005[s], memo: 0.00001[s]\n",
      "\n",
      "n = 12\n",
      "normal: 0.00008[s], memo: 0.00001[s]\n",
      "\n",
      "n = 13\n",
      "normal: 0.00010[s], memo: 0.00001[s]\n",
      "\n",
      "n = 14\n",
      "normal: 0.00018[s], memo: 0.00001[s]\n",
      "\n",
      "n = 15\n",
      "normal: 0.00018[s], memo: 0.00001[s]\n",
      "\n",
      "n = 16\n",
      "normal: 0.00030[s], memo: 0.00001[s]\n",
      "\n",
      "n = 17\n",
      "normal: 0.00050[s], memo: 0.00001[s]\n",
      "\n",
      "n = 18\n",
      "normal: 0.00083[s], memo: 0.00001[s]\n",
      "\n",
      "n = 19\n",
      "normal: 0.00170[s], memo: 0.00001[s]\n",
      "\n",
      "n = 20\n",
      "normal: 0.00301[s], memo: 0.00003[s]\n",
      "\n"
     ]
    }
   ],
   "source": [
    "import time\n",
    "\n",
    "n = []\n",
    "t_normal = []\n",
    "t_memo = []\n",
    "\n",
    "for i in range(21):\n",
    "    fibonacci_memo = Fibonacci_Memo()\n",
    "    n.append(i)\n",
    "    \n",
    "    # normal\n",
    "    start = time.time()\n",
    "    x = fibonacci(i)\n",
    "    end = time.time()\n",
    "    elapsed_normal = end - start\n",
    "    t_normal.append(elapsed_normal)\n",
    "\n",
    "    # memo\n",
    "    start = time.time()\n",
    "    x = fibonacci_memo.calc(i)\n",
    "    end = time.time()\n",
    "    elapsed_memo = end - start\n",
    "    t_memo.append(elapsed_memo)\n",
    "\n",
    "    print(f'n = {i}')\n",
    "    print(f'normal: {elapsed_normal:.5f}[s], memo: {elapsed_memo:.5f}[s]\\n')"
   ]
  },
  {
   "cell_type": "code",
   "execution_count": 5,
   "metadata": {
    "colab": {
     "base_uri": "https://localhost:8080/",
     "height": 423
    },
    "executionInfo": {
     "elapsed": 583,
     "status": "ok",
     "timestamp": 1624942551859,
     "user": {
      "displayName": "shungo kimura",
      "photoUrl": "",
      "userId": "16139714564296208788"
     },
     "user_tz": -540
    },
    "id": "hrKytgWtyayt",
    "outputId": "3e1ca9fd-b6c7-48bb-d15a-0bc21697c7f9"
   },
   "outputs": [
    {
     "data": {
      "image/png": "[encoded data removed]",
      "text/plain": [
       "<Figure size 1080x504 with 1 Axes>"
      ]
     },
     "metadata": {
      "needs_background": "light"
     },
     "output_type": "display_data"
    }
   ],
   "source": [
    "import matplotlib.pyplot as plt\n",
    "%matplotlib inline\n",
    "\n",
    "plt.figure(figsize=(15, 7))\n",
    "plt.plot(n, t_normal, label='normal')\n",
    "plt.plot(n, t_memo, label='memo')\n",
    "plt.title('normal vs memo')\n",
    "plt.xlabel('n')\n",
    "plt.ylabel('time[s]')\n",
    "plt.legend()\n",
    "plt.show()"
   ]
  }
 ],
 "metadata": {
  "colab": {
   "authorship_tag": "ABX9TyMiiR8mVVmrLQQIkSxA2Ll8",
   "collapsed_sections": [],
   "name": "Untitled0.ipynb",
   "provenance": []
  },
  "kernelspec": {
   "display_name": "Python 3",
   "language": "python",
   "name": "python3"
  },
  "language_info": {
   "codemirror_mode": {
    "name": "ipython",
    "version": 3
   },
   "file_extension": ".py",
   "mimetype": "text/x-python",
   "name": "python",
   "nbconvert_exporter": "python",
   "pygments_lexer": "ipython3",
   "version": "3.7.8"
  }
 },
 "nbformat": 4,
 "nbformat_minor": 4
}
